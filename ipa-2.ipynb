{
 "cells": [
  {
   "cell_type": "code",
   "execution_count": 18,
   "id": "f40bcce3",
   "metadata": {},
   "outputs": [
    {
     "name": "stdout",
     "output_type": "stream",
     "text": [
      "C\n"
     ]
    }
   ],
   "source": [
    "# Shift Letter\n",
    "\n",
    "def shift_letter(letter, shift):\n",
    "    \n",
    "    if str(letter) == \" \":\n",
    "        return \" \"\n",
    "    \n",
    "    alphabet = \"ABCDEFGHIJKLMNOPQRSTUVWXYZ\"\n",
    "    index = alphabet.index(str(letter))\n",
    "    # Looks for the letter's position in the alphabet\n",
    "    shifted_index = (index + int(shift)) % len(alphabet)\n",
    "    # Gets remainder to wrap the letter around\n",
    "    shifted_letter = alphabet[shifted_index]\n",
    "    \n",
    "       \n",
    "    return shifted_letter\n",
    "\n",
    "print(shift_letter(\"X\", 5))"
   ]
  },
  {
   "cell_type": "code",
   "execution_count": 27,
   "id": "5de4f3c4",
   "metadata": {
    "scrolled": true
   },
   "outputs": [
    {
     "name": "stdout",
     "output_type": "stream",
     "text": [
      "EWRKF KU UQ FWOD\n"
     ]
    }
   ],
   "source": [
    "# Caesar Cipher\n",
    "\n",
    "def shift_letter(letter, shift):\n",
    "\n",
    "    if str(letter) == \" \":\n",
    "        return \" \"\n",
    "    \n",
    "    alphabet = \"ABCDEFGHIJKLMNOPQRSTUVWXYZ\"\n",
    "    index = alphabet.index(letter)\n",
    "    # Looks for the letter's position in the alphabet\n",
    "    shifted_index = (index + int(shift)) % len(alphabet)\n",
    "    # Gets remainder to wrap the letter around\n",
    "    shifted_letter = alphabet[shifted_index]\n",
    "           \n",
    "    return shifted_letter\n",
    "\n",
    "def caesar_cipher(message, shift):\n",
    "    \n",
    "    shifted_message = \"\"\n",
    "    # Empty to contain shifted message later\n",
    "    \n",
    "    for letter in message:\n",
    "        shifted_letter = shift_letter(letter, shift)\n",
    "        # Shifts each letter\n",
    "        shifted_message += shifted_letter\n",
    "        # Concatenates shifted letters\n",
    "    \n",
    "    return shifted_message\n",
    "\n",
    "print(caesar_cipher(\"CUPID IS SO DUMB\", 2))"
   ]
  },
  {
   "cell_type": "code",
   "execution_count": 31,
   "id": "c03598e3",
   "metadata": {},
   "outputs": [
    {
     "name": "stdout",
     "output_type": "stream",
     "text": [
      "C\n"
     ]
    }
   ],
   "source": [
    "# Shift By Letter\n",
    "\n",
    "def shift_by_letter(letter, letter_shift):\n",
    "    \n",
    "    if str(letter) == \" \":\n",
    "        return \" \"\n",
    "    \n",
    "    alphabet = \"ABCDEFGHIJKLMNOPQRSTUVWXYZ\"\n",
    "    letter_shift_value = alphabet.index(letter_shift)\n",
    "    # Looks for the number equivalent of letter    \n",
    "    index = alphabet.index(letter)\n",
    "    # Looks for the letter's position in the alphabet\n",
    "    shifted_index = (index + int(letter_shift_value)) % len(alphabet)\n",
    "    # Gets remainder to wrap the letter around\n",
    "    shifted_letter = alphabet[shifted_index]\n",
    "\n",
    "    return shifted_letter\n",
    "\n",
    "print(shift_by_letter(\"A\", \"C\"))"
   ]
  },
  {
   "cell_type": "code",
   "execution_count": 33,
   "id": "c89f63c7",
   "metadata": {},
   "outputs": [
    {
     "data": {
      "text/plain": [
       "'K A'"
      ]
     },
     "execution_count": 33,
     "metadata": {},
     "output_type": "execute_result"
    }
   ],
   "source": [
    "# Vigenere Cipher\n",
    "\n",
    "def vigenere_cipher(message, key):\n",
    "    \n",
    "    # Extend the key to match the length of the message\n",
    "    key = key * (len(message) // len(key)) + key[:len(message) % len(key)]\n",
    "\n",
    "    encrypted_message = \"\"\n",
    "    for i, char in enumerate(message):\n",
    "        if char == \" \":\n",
    "            encrypted_message += \" \"\n",
    "        else:\n",
    "            char_shift = ord(key[i]) - ord(\"A\")\n",
    "            encrypted_char = chr((ord(char) - ord(\"A\") + char_shift) % 26 + ord(\"A\"))\n",
    "            encrypted_message += encrypted_char\n",
    "\n",
    "    return encrypted_message\n",
    "\n",
    "vigenere_cipher(\"A C\", \"KEY\")"
   ]
  },
  {
   "cell_type": "code",
   "execution_count": 37,
   "id": "ba3ecef9",
   "metadata": {},
   "outputs": [
    {
     "data": {
      "text/plain": [
       "'IMNNA_FTAOIGROE'"
      ]
     },
     "execution_count": 37,
     "metadata": {},
     "output_type": "execute_result"
    }
   ],
   "source": [
    "# Scytale Cipher\n",
    "\n",
    "def scytale_cipher(message, shift):\n",
    "    \n",
    "    if len(message) % shift != 0:\n",
    "        message += \"_\" * (shift - len(message) % shift)\n",
    "    # Checks if length of message is multiple of shift\n",
    "    # Adds underscores if otherwise\n",
    "\n",
    "    encoded_message = \"\"\n",
    "    for i in range(len(message)):\n",
    "        index = (i // shift) + (len(message) // shift) * (i % shift)\n",
    "        encoded_message += message[index]\n",
    "    # Calculates index of character in encoded message\n",
    "\n",
    "    return encoded_message\n",
    "\n",
    "scytale_cipher(\"INFORMATION_AGE\", 3)"
   ]
  },
  {
   "cell_type": "code",
   "execution_count": 36,
   "id": "156718a8",
   "metadata": {},
   "outputs": [
    {
     "data": {
      "text/plain": [
       "'INFORMATION_AGE'"
      ]
     },
     "execution_count": 36,
     "metadata": {},
     "output_type": "execute_result"
    }
   ],
   "source": [
    "# Scytale Decipher\n",
    "\n",
    "def scytale_decipher(message, shift):\n",
    "    \n",
    "    num_columns = len(message) // shift\n",
    "    num_rows = shift\n",
    "    # Calculates number of columns and rows in grid\n",
    "\n",
    "    decoded_message = \"\"\n",
    "    for row in range(num_rows):\n",
    "        for col in range(num_columns):\n",
    "            index = col * num_rows + row\n",
    "            decoded_message += message[index]\n",
    "    # Calculates index in original message based on row and column\n",
    "\n",
    "    decoded_message = decoded_message.rstrip(\"_\")\n",
    "    # Removes underscores\n",
    "\n",
    "    return decoded_message\n",
    "\n",
    "scytale_decipher(\"IMNNA_FTAOIGROE\", 3)"
   ]
  }
 ],
 "metadata": {
  "kernelspec": {
   "display_name": "Python 3 (ipykernel)",
   "language": "python",
   "name": "python3"
  },
  "language_info": {
   "codemirror_mode": {
    "name": "ipython",
    "version": 3
   },
   "file_extension": ".py",
   "mimetype": "text/x-python",
   "name": "python",
   "nbconvert_exporter": "python",
   "pygments_lexer": "ipython3",
   "version": "3.10.9"
  }
 },
 "nbformat": 4,
 "nbformat_minor": 5
}
