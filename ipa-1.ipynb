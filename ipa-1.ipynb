{
 "cells": [
  {
   "cell_type": "code",
   "execution_count": 4,
   "id": "19f4d126",
   "metadata": {},
   "outputs": [
    {
     "name": "stdout",
     "output_type": "stream",
     "text": [
      "950.0\n"
     ]
    }
   ],
   "source": [
    "# Savings\n",
    "\n",
    "def savings(gross_pay, tax_rate, expenses):\n",
    "    \n",
    "    output = (float(tax_rate) * int(gross_pay)) - int(expenses)\n",
    "\n",
    "    return output\n",
    "\n",
    "print(savings(10000, 0.12, 250))"
   ]
  },
  {
   "cell_type": "code",
   "execution_count": 13,
   "id": "8168af5f",
   "metadata": {},
   "outputs": [
    {
     "name": "stdout",
     "output_type": "stream",
     "text": [
      "20kg\n"
     ]
    }
   ],
   "source": [
    "# Material Waste\n",
    "\n",
    "def material_waste(total_material, material_units, num_jobs, job_consumption):\n",
    "    \n",
    "    computation = int(total_material) - (int(num_jobs) * int(job_consumption))\n",
    "    output = str(computation) + str(material_units)\n",
    " \n",
    "    return output\n",
    "\n",
    "print(material_waste(60, \"kg\", 20, 2))"
   ]
  },
  {
   "cell_type": "code",
   "execution_count": 18,
   "id": "4f73e3d7",
   "metadata": {},
   "outputs": [
    {
     "name": "stdout",
     "output_type": "stream",
     "text": [
      "12000\n"
     ]
    }
   ],
   "source": [
    "# Interest\n",
    "\n",
    "def interest(principal, rate, periods):\n",
    "    \n",
    "    interest = int(principal) * (float(rate) * int(periods))\n",
    "    output = int(principal) + int(interest)\n",
    "\n",
    "    return output\n",
    "\n",
    "print(interest(10000, 0.05, 4))"
   ]
  },
  {
   "cell_type": "code",
   "execution_count": 7,
   "id": "c8fc0e01",
   "metadata": {},
   "outputs": [
    {
     "name": "stdout",
     "output_type": "stream",
     "text": [
      "14.348347064041066\n"
     ]
    }
   ],
   "source": [
    "# Body Mass Index\n",
    "\n",
    "def body_mass_index(weight, height):\n",
    "    \n",
    "    weight_metric = float(weight) * 0.453592\n",
    "    height_metric = (float(height[0]) * 0.3048) + (float(height[1]) * 0.0254)\n",
    "    output = float(weight_metric) / (float(height_metric) ** 2)\n",
    "\n",
    "    return output\n",
    "\n",
    "print(body_mass_index(100, [5, 10]))"
   ]
  }
 ],
 "metadata": {
  "kernelspec": {
   "display_name": "Python 3 (ipykernel)",
   "language": "python",
   "name": "python3"
  },
  "language_info": {
   "codemirror_mode": {
    "name": "ipython",
    "version": 3
   },
   "file_extension": ".py",
   "mimetype": "text/x-python",
   "name": "python",
   "nbconvert_exporter": "python",
   "pygments_lexer": "ipython3",
   "version": "3.10.9"
  }
 },
 "nbformat": 4,
 "nbformat_minor": 5
}
